{
 "cells": [
  {
   "cell_type": "markdown",
   "id": "05ed7d79",
   "metadata": {},
   "source": [
    "# Class and Static Methods\n",
    "\n",
    "\n",
    "#### What is Static Method?\n",
    "* ```@staticmethod``` is a decorator in Python used inside a class to define a method that:\n",
    "* Does NOT take self or cls as the first argument — so it doesn't have access to the instance (self) or class (cls) itself.\n",
    "* Acts like a regular function that lives inside the class namespace (for organization), but it can be called on the class itself or on an instance.\n",
    "\n",
    "\n",
    "#### Why use @staticmethod?\n",
    "* To logically group functions that belong to the class conceptually but don't need to access or modify instance or class data.\n",
    "* Keeps your code organized and clean.\n",
    "* Avoids unnecessary use of self when it’s not needed.\n",
    "\n",
    "#### What is Class Method, and difference?\n",
    "* ```@classmethod``` methods get the class (cls) as the first argument, so they can modify class state.\n",
    "* ```@staticmethod``` methods don’t get any automatic first argument.\n",
    "\n",
    "\n",
    "#### Example"
   ]
  },
  {
   "cell_type": "code",
   "execution_count": null,
   "id": "f718e013",
   "metadata": {},
   "outputs": [],
   "source": [
    "class Pizza:\n",
    "    base_price = 10  # class attribute\n",
    "\n",
    "    def __init__(self, toppings):\n",
    "        self.toppings = toppings  # instance attribute\n",
    "\n",
    "    # Normal instance method: can access instance data and class data\n",
    "    def calculate_price(self):\n",
    "        # Price = base price + $1.5 per topping\n",
    "        price = self.base_price + 1.5 * len(self.toppings)\n",
    "        return price\n",
    "\n",
    "    # Static method: no access to instance or class; just a utility function\n",
    "    @staticmethod\n",
    "    def is_vegetarian(toppings):\n",
    "        veg_ingredients = {'cheese', 'tomato', 'onion', 'bell pepper', 'olive'}\n",
    "        # Check if all toppings are vegetarian\n",
    "        return all(t in veg_ingredients for t in toppings)\n",
    "\n",
    "    # Class method: access or modify class-level data\n",
    "    @classmethod\n",
    "    def set_base_price(cls, new_price):\n",
    "        cls.base_price = new_price"
   ]
  },
  {
   "cell_type": "code",
   "execution_count": null,
   "id": "135d38f1",
   "metadata": {},
   "outputs": [
    {
     "name": "stdout",
     "output_type": "stream",
     "text": [
      "Price: $14.50\n",
      "Is vegetarian? True\n",
      "Is vegetarian? False\n",
      "New price: $16.50\n"
     ]
    }
   ],
   "source": [
    "# Create a pizza instance\n",
    "my_pizza = Pizza(['cheese', 'tomato', 'olive'])\n",
    "\n",
    "# Instance method uses instance and class data\n",
    "print(f\"Price: ${my_pizza.calculate_price():.2f}\")  # Price: $14.50\n",
    "\n",
    "# Static method called on class, no instance needed\n",
    "print(\"Is vegetarian?\", Pizza.is_vegetarian(['cheese', 'tomato']))  # True\n",
    "print(\"Is vegetarian?\", Pizza.is_vegetarian(['cheese', 'pepperoni']))  # False\n",
    "\n",
    "# Class method modifies CLASS attribute\n",
    "Pizza.set_base_price(12)\n",
    "\n",
    "# The change affects all instances of the class\n",
    "print(f\"New price: ${my_pizza.calculate_price():.2f}\")  # Price: $16.50"
   ]
  }
 ],
 "metadata": {
  "kernelspec": {
   "display_name": "PytorchVenv",
   "language": "python",
   "name": "python3"
  },
  "language_info": {
   "codemirror_mode": {
    "name": "ipython",
    "version": 3
   },
   "file_extension": ".py",
   "mimetype": "text/x-python",
   "name": "python",
   "nbconvert_exporter": "python",
   "pygments_lexer": "ipython3",
   "version": "3.9.18"
  }
 },
 "nbformat": 4,
 "nbformat_minor": 5
}
