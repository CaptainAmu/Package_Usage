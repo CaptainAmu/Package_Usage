{
 "cells": [
  {
   "cell_type": "markdown",
   "id": "217be4a3",
   "metadata": {},
   "source": [
    "# Shell Usage\n",
    "\n",
    "Use Windows Subsystem for Linux. Go to directory line and type ```wsl``` to start.\n",
    "\n",
    "<span style=\"color: orange\"> User:  shucheng    pw:  *** **** (name initials, year of birth). </span>"
   ]
  },
  {
   "cell_type": "markdown",
   "id": "f0fcb91a",
   "metadata": {},
   "source": [
    "Following is the most useful. Adapted from lecture 1 of Missing course in CS by MIT CSAIL. https://missing.csail.mit.edu/2020/course-shell/"
   ]
  },
  {
   "cell_type": "markdown",
   "id": "47f29a62",
   "metadata": {},
   "source": [
    "| Command | Description |  |\n",
    "| --- | --- | --- |\n",
    "| echo | Print something to standard output |  |\n",
    "| echo hello > hello.txt | Print \"hello\" into hello.txt (overwrite if exists) | When text long / with complicated 符号，use ‘  ‘ |\n",
    "| which echo | find which file is executed |  |\n",
    "| pwd | Get current working directory |  |\n",
    "| cd PATH | Change directory |  |\n",
    "| cd **.**/Pictures | Go to the Pictures subfolder | Need ADD Dots!!\n",
    ". : current direct.; \n",
    ".. : parent direct. |\n",
    "| ./file | Execute some file under current directory | No need .cd (since not a directory) |\n",
    "| cd ~ | Go to home directory (/c/Users/Shucheng) |  |\n",
    "| cd - | Go to previous path |  |\n",
    "| ls | List objects/directories in current directory |  |\n",
    "| ls -l | Long listing format (shows details) | d rwx rwx rwx: 1st whether directory; 234th user; 567th group; 8910-th others rwx: shows read / write / execute permission |\n",
    "| chmod ug +x  file | Add execution access to user and group to a file | chmod u/g/o +/-r/w/x file |\n",
    "| echo --help | Show help for the command “echo” |  |\n",
    "| man echo | help with the manual for command “echo” |  |\n",
    "| mv a.txt b.txt | Rename a.txt to b.txt |  |\n",
    "| cp a.txt b.txt | Copy a.txt to b.txt (can be different directory) |  |\n",
    "| mkdir  lala | Make new directory called lala in the current directory |  |\n",
    "| rmdir lala | remove the directory called lala in the current directory |  |\n",
    "| cat hello.txt | Read hello.txt and print out |  |\n",
    "| cat < hello.txt > hello2.txt | Read hello.txt and write contents into hello2.txt |  |\n",
    "| cat < hello.txt >> hello2.txt | Read hello.txt and **add** the contents into hello2.txt |  |\n",
    "| ls -l / \\| tail -n2 > try.txt | Detail list of items in root directory, output final 2 rows into try.txt |  |"
   ]
  },
  {
   "cell_type": "markdown",
   "id": "9dc790db",
   "metadata": {},
   "source": [
    "* \\- and -- in command:\n",
    "  * ls -l -a /home/user\n",
    "  * Anything in the command that doesn't take a value is a ```flag```; those that take values are called ```options```.\n",
    "  \n",
    "* r w x: Read / Write / Execution for files\n",
    "  * For directory (those that start not with - but with d), \n",
    "    * r is whether you can read the directory (files inside); \n",
    "    * w is whether you can rename / create / remove files within the directory;  \n",
    "    * x is search, the permittance to enter that directory to do something (need x for all parent directories as well)\n",
    "  \n",
    "* Keyboard shortcuts\n",
    "  * Clear terminal: ```ctrl + L```\n",
    "  * Send interrupt signal: ```ctrl + C```\n",
    "  * Paste: Right click and paste\n",
    "\n",
    "* ```sudo su``` (\"do\" as \"su\"peruser)\n",
    "   \n",
    "  * ```root user```: one that can read / write / execute all files regardless of the r w x status\n",
    "  * ⚠️ Apply ```sudo su``` to execute as root user, <span style=\"color: red\"> Remember to ```exit``` </span>"
   ]
  }
 ],
 "metadata": {
  "language_info": {
   "name": "python"
  }
 },
 "nbformat": 4,
 "nbformat_minor": 5
}
