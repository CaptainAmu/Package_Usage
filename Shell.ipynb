{
 "cells": [
  {
   "cell_type": "markdown",
   "id": "217be4a3",
   "metadata": {},
   "source": [
    "# Shell Usage\n",
    "\n",
    "Use Windows Subsystem for Linux. Go to directory line and type ```wsl``` to start.\n",
    "\n",
    "<span style=\"color: orange\"> User:  shucheng    pw:  *** **** (name initials, year of birth). </span>"
   ]
  },
  {
   "cell_type": "markdown",
   "id": "f0fcb91a",
   "metadata": {},
   "source": [
    "Following is the most useful. Adapted from lecture 1 of Missing course in CS by MIT CSAIL. https://missing.csail.mit.edu/2020/course-shell/"
   ]
  },
  {
   "cell_type": "markdown",
   "id": "47f29a62",
   "metadata": {},
   "source": [
    "### Basic Commands\n",
    "\n",
    "| Command | Description |  |\n",
    "| --- | --- | --- |\n",
    "| echo | Print something to standard output |  echo \"Hello, $Name\" prints variable name;    echo 'Hello, $Name' prints string as is|\n",
    "| echo hello > hello.txt | Print \"hello\" into hello.txt (overwrite if exists) | When text long / with complicated 符号，use ‘  ‘ |\n",
    "| which echo | find which file is executed |  |\n",
    "| pwd | Get current working directory |  |\n",
    "| cd PATH | Change directory |  |\n",
    "| cd **.**/Pictures | Go to the Pictures subfolder | Need ADD Dots!!\n",
    ". : current direct.; \n",
    ".. : parent direct. |\n",
    "| ./file | Execute some file under current directory | No need .cd (since not a directory) |\n",
    "| cd ~ | Go to home directory (/c/Users/Shucheng) |  |\n",
    "| cd - | Go to previous path |  |\n",
    "| ls | List objects/directories in current directory |  |\n",
    "| ls -l | Long listing format (shows details) | d rwx rwx rwx: 1st whether directory; 234th user; 567th group; 8910-th others rwx: shows read / write / execute permission |\n",
    "| ls -alhS | List all file (including hidden file), long format, human-readable size (e.g. 4MB, 2GB), Sort| |\n",
    "| ls -l / \\| tail -n2 > try.txt | Detail list of items in root directory, output final 2 rows into try.txt |  |\n",
    "| chmod ug +x  file | Add execution access to user and group to a file | chmod u/g/o +/-r/w/x file |\n",
    "| tree -L [depth] [directory] | Show tree structrue of folder for depth <depth> | |\n",
    "| echo --help | Show help for the command “echo” |  |\n",
    "| man echo | help with the manual for command “echo” |  |\n",
    "| mv a.txt b.txt | Rename a.txt to b.txt |  |\n",
    "| rm a.txt | Remove a.txt | |\n",
    "| rm -r [directory] | Remove directory and all its contents | |\n",
    "| rm -rf [directory] | Remove directory and all its contents, without ask confirm | |\n",
    "| rm -r [directory] | Remove all contents in directory without removing directory | | \n",
    "| cp a.txt b.txt | Copy a.txt to b.txt (can be different directory) |  |\n",
    "| cp -r [source/directory/folder] [destination/directory] | Copy source directory and all its contents to new directory | |\n",
    "| mkdir  lala | Make new directory called lala in the current directory |  |\n",
    "| rmdir lala | remove the directory called lala in the current directory |  |\n",
    "| cat hello.txt | Read hello.txt and print out |  |\n",
    "| cat < hello.txt > hello2.txt | Read hello.txt and write contents into hello2.txt |  |\n",
    "| cat < hello.txt >> hello2.txt | Read hello.txt and **add** the contents into hello2.txt |  |"
   ]
  },
  {
   "cell_type": "markdown",
   "id": "3b7246f6",
   "metadata": {},
   "source": [
    "### Paths & Environment\n",
    "\n",
    "| Command | Description | |\n",
    "| --- | --- | --- |\n",
    "| <span style=\"color: orange\"> printenv </span> | Print current environment variables & configurations | <span style=\"color: orange\"> IMPORTANT </span> |\n",
    "| <span style=\"color: orange\"> export PATH=\"/path/to/your/program\":$PATH </span>  | Prepend your program directory to current existing system path (when run shell and scripts in shell, they will look for imports in this path) | can append (i.e. after) by defining PATH=$PATH:\"...\";  : is delimiter |\n",
    "| export PYTHONPATH=\"/path/to/your/program\":$PATH | Prepend python packages to existing PYTHON path (when run shell and scripts in shell, they will look for imports in this path) | similarly can append (i.e. after).  |\n",
    "| echo \"export PATH=/path/to/your/program:$PATH\" >> ~/.bashrc | Adding a directory persistently for all future shell session. To remove, go to Linux/Ubuntu/home/shucheng and edit ```.bashrc``` | How work?: by appending an additional line in ```~/.bashrc```, every time a shell initiates it run this \"export ...\" line, hence appends your defined directory to the path that all scripts started from the shell will search for. |"
   ]
  },
  {
   "cell_type": "markdown",
   "id": "6e35db2f",
   "metadata": {},
   "source": [
    "### Usage of Python\n",
    "\n",
    "| Command | Description | |\n",
    "| --- | --- | --- |\n",
    "| python3 | Initiate python |  |\n",
    "| quit() | quit python | |\n",
    "| pip3 list | To see the list of packages currently installed in the python environment | can do same after entering venv |\n",
    "| which python3 | check which interpreter is being used | | \n",
    "| python3 --version | | |\n",
    "| mkdir venvs | Make a virtual environment directory  | |\n",
    "| <span style=\"color: orange\"> python3 -m venv [./nameofvenv] </span> | Make a virtual environment | <span style=\"color: red\"> First go to desired project folder then create </span>. To create under specific version, do e.g. ```python3.11 -m venv ...```. The created folder will have a ```.pyvenv``` which distinguishes it from normal folders. |\n",
    "| <span style=\"color: grey\"> python3 -m venv --system-site-packages [./nameofvenv] </span> | <span style=\"color: grey\"> Create a virtual env **with access to packages installed in the global environment**. Can cause confusion / compatibility issue </span> | |\n",
    "| <span style=\"color: orange\"> source [./nameofvenv/bin/activate] </span> | <span style=\"color: lightgreen\"> Activate </span> the virtual environment | <span style=\"color: red\"> First go to desired project folder then activate </span> | \n",
    "| tree -L 2 [./nameofvenv] | See tree structure of virtual environment | |\n",
    "| <span style=\"color: orange\"> pip install numpy  </span> | Installing package within a Python Venv | |\n",
    "| pip install ipykernel | Installing ipykernel <span style=\"color: red\"> WITHIN </span> a Python Venv | **Kernel**: contains info about venv to can propagate to jupyter.  A kernel is required to start a jupyter notebook, after having access to Python environment (venv) |\n",
    "| python -m ipykernel install --user --name [nameofvenv] --display-name \"Python (nameofvenv)\" | Create kernel for the virtual environment |  | \n",
    "| deactivate | <span style=\"color: lightgreen\"> Deactivate </span> a virtual environment | |\n",
    "\n",
    "\n",
    "### Show Import Dependency Tree\n",
    "| Command | Description | |\n",
    "| --- | --- | --- |\n",
    "| pydeps inference_se3_flows.py --debug --no-config --noshow | Show Package Import Hierarchy (which imports which in a project) | <span style=\"color: orange\"> use Windows Powershell </span>, go to folder which holds the target ```.py```  and use |"
   ]
  },
  {
   "cell_type": "markdown",
   "id": "9dc790db",
   "metadata": {},
   "source": [
    "* <span style=\"color: orange\"> ```rm -rf``` and ```rm -r``` are dangerous! use with caution </span>\n",
    "\n",
    "* ```mv``` no need ```-r```; ```cp``` needs ```-r```\n",
    "\n",
    "* ```export``` sets the variable and marks it for export, so it's inherited by child processes (e.g., programs launched from this shell). used when you want the updated PATH to be visible to scripts or binaries you run afterwards.\n",
    "\n",
    "* ```PYTHONPATH``` specifies directories the system looks for when running ```import```.\n",
    "\n",
    "* \\- and -- in command:\n",
    "  * ls -l -a /home/user\n",
    "  * Anything in the command that doesn't take a value is a ```flag```; those that take values are called ```options```.\n",
    "  \n",
    "* r w x: Read / Write / Execution for files\n",
    "  * For directory (those that start not with - but with d), \n",
    "    * r is whether you can read the directory (files inside); \n",
    "    * w is whether you can rename / create / remove files within the directory;  \n",
    "    * x is search, the permittance to enter that directory to do something (need x for all parent directories as well)\n",
    "  \n",
    "* Keyboard shortcuts\n",
    "  * Clear terminal: ```ctrl + L```\n",
    "  * Send interrupt signal: ```ctrl + C```\n",
    "  * Paste: Right click and paste\n",
    "\n",
    "* ```sudo su``` (\"do\" as \"su\"peruser)\n",
    "   \n",
    "  * ```root user```: one that can read / write / execute all files regardless of the r w x status\n",
    "  * ⚠️ Apply ```sudo su``` to execute as root user, <span style=\"color: red\"> Remember to ```exit``` </span>\n",
    "\n",
    "* \"Python Implementation\":  An implementation of a programming language is a program that understands and executes code written in that language."
   ]
  },
  {
   "cell_type": "markdown",
   "id": "905e24e6",
   "metadata": {},
   "source": []
  }
 ],
 "metadata": {
  "language_info": {
   "name": "python"
  }
 },
 "nbformat": 4,
 "nbformat_minor": 5
}
