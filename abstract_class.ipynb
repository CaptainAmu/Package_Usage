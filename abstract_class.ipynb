{
 "cells": [
  {
   "cell_type": "markdown",
   "id": "4e4581ec",
   "metadata": {},
   "source": [
    "# Abstract Class?"
   ]
  },
  {
   "cell_type": "markdown",
   "id": "b728f168",
   "metadata": {},
   "source": [
    "#### What is it?\n",
    "\n",
    "* ```@abstractmethod``` enforces that all the subclasses inherited from this class ```shape``` must implement some method.\n",
    "\n",
    "* If I add this line, when define a subclass which doesn't have this method, it raises an error ```TypeError``` when creating an instance of that subclass. \n",
    "* If I don't add this line, I won't get an error message when defining a subclass "
   ]
  },
  {
   "cell_type": "code",
   "execution_count": 6,
   "id": "f2e2c096",
   "metadata": {},
   "outputs": [],
   "source": [
    "from abc import ABC, abstractmethod\n",
    "\n",
    "class shape(ABC):\n",
    "    # When enabling @abstractmethod, the method below MUST be defined in all inherited classes\n",
    "    @abstractmethod\n",
    "    # When disabling the @... above, the below ensures the \"area\" method is at least defined (pass) in all inherited classes \n",
    "    # (even if not overridden)\n",
    "    def area(self):\n",
    "        pass\n",
    "\n",
    "class circle(shape):\n",
    "    def __init__(self, radius):\n",
    "        self.radius = radius\n",
    "    # def area(self):\n",
    "        # return 3.14 * self.radius * self.radius\n",
    "    \n",
    "class rectangle(shape):\n",
    "    def __init__(self, width, height):\n",
    "        self.width = width\n",
    "        self.height = height\n",
    "    def area(self):\n",
    "        return self.width * self.height"
   ]
  },
  {
   "cell_type": "code",
   "execution_count": 7,
   "id": "fc0fd496",
   "metadata": {},
   "outputs": [
    {
     "ename": "TypeError",
     "evalue": "Can't instantiate abstract class circle with abstract method area",
     "output_type": "error",
     "traceback": [
      "\u001b[1;31m---------------------------------------------------------------------------\u001b[0m",
      "\u001b[1;31mTypeError\u001b[0m                                 Traceback (most recent call last)",
      "Cell \u001b[1;32mIn[7], line 1\u001b[0m\n\u001b[1;32m----> 1\u001b[0m shapes \u001b[38;5;241m=\u001b[39m [\u001b[43mcircle\u001b[49m\u001b[43m(\u001b[49m\u001b[38;5;241;43m5\u001b[39;49m\u001b[43m)\u001b[49m, rectangle(\u001b[38;5;241m4\u001b[39m, \u001b[38;5;241m6\u001b[39m)]\n\u001b[0;32m      3\u001b[0m \u001b[38;5;28;01mfor\u001b[39;00m s \u001b[38;5;129;01min\u001b[39;00m shapes:\n\u001b[0;32m      4\u001b[0m     \u001b[38;5;28mprint\u001b[39m(\u001b[38;5;124mf\u001b[39m\u001b[38;5;124m\"\u001b[39m\u001b[38;5;124mArea: \u001b[39m\u001b[38;5;132;01m{\u001b[39;00ms\u001b[38;5;241m.\u001b[39marea()\u001b[38;5;132;01m}\u001b[39;00m\u001b[38;5;124m\"\u001b[39m)\n",
      "\u001b[1;31mTypeError\u001b[0m: Can't instantiate abstract class circle with abstract method area"
     ]
    }
   ],
   "source": [
    "shapes = [circle(5), rectangle(4, 6)]\n",
    "\n",
    "for s in shapes:\n",
    "    print(f\"Area: {s.area()}\")  # Outputs the area of each shape"
   ]
  }
 ],
 "metadata": {
  "kernelspec": {
   "display_name": "PytorchVenv",
   "language": "python",
   "name": "python3"
  },
  "language_info": {
   "codemirror_mode": {
    "name": "ipython",
    "version": 3
   },
   "file_extension": ".py",
   "mimetype": "text/x-python",
   "name": "python",
   "nbconvert_exporter": "python",
   "pygments_lexer": "ipython3",
   "version": "3.9.18"
  }
 },
 "nbformat": 4,
 "nbformat_minor": 5
}
