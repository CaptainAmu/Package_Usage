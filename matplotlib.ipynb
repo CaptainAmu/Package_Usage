{
 "cells": [
  {
   "cell_type": "markdown",
   "id": "051f30b9",
   "metadata": {},
   "source": [
    "# Matplotlib Functions Usage"
   ]
  },
  {
   "cell_type": "markdown",
   "id": "f0188d72",
   "metadata": {},
   "source": []
  },
  {
   "cell_type": "code",
   "execution_count": null,
   "id": "c028e9d9",
   "metadata": {},
   "outputs": [],
   "source": []
  }
 ],
 "metadata": {
  "language_info": {
   "name": "python"
  }
 },
 "nbformat": 4,
 "nbformat_minor": 5
}
